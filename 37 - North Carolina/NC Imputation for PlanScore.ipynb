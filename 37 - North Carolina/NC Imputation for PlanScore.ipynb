{
 "cells": [
  {
   "cell_type": "code",
   "execution_count": 1,
   "metadata": {
    "collapsed": true,
    "deletable": true,
    "editable": true
   },
   "outputs": [],
   "source": [
    "import pandas as pd\n",
    "import matplotlib.pyplot as plt\n",
    "from sklearn.decomposition import PCA\n",
    "from sklearn import cluster, preprocessing\n",
    "%matplotlib inline"
   ]
  },
  {
   "cell_type": "markdown",
   "metadata": {
    "deletable": true,
    "editable": true
   },
   "source": [
    "# Data\n",
    "\n",
    "Load data from `nc_complete-2014.csv`."
   ]
  },
  {
   "cell_type": "code",
   "execution_count": 2,
   "metadata": {
    "collapsed": false,
    "deletable": true,
    "editable": true
   },
   "outputs": [
    {
     "data": {
      "text/html": [
       "<div>\n",
       "<table border=\"1\" class=\"dataframe\">\n",
       "  <thead>\n",
       "    <tr style=\"text-align: right;\">\n",
       "      <th></th>\n",
       "      <th>county_name</th>\n",
       "      <th>precinct_id</th>\n",
       "      <th>sen_red</th>\n",
       "      <th>sen_blue</th>\n",
       "      <th>con_districts</th>\n",
       "      <th>con_contested</th>\n",
       "      <th>con_red_votes</th>\n",
       "      <th>con_blue_votes</th>\n",
       "      <th>sldu_districts</th>\n",
       "      <th>sldu_contested</th>\n",
       "      <th>...</th>\n",
       "      <th>hispanic_pop</th>\n",
       "      <th>other_pop</th>\n",
       "      <th>median_age</th>\n",
       "      <th>median_income</th>\n",
       "      <th>education_pop</th>\n",
       "      <th>school_pop</th>\n",
       "      <th>diploma_pop</th>\n",
       "      <th>college_pop</th>\n",
       "      <th>graduate_pop</th>\n",
       "      <th>area_km2</th>\n",
       "    </tr>\n",
       "    <tr>\n",
       "      <th>shape_id</th>\n",
       "      <th></th>\n",
       "      <th></th>\n",
       "      <th></th>\n",
       "      <th></th>\n",
       "      <th></th>\n",
       "      <th></th>\n",
       "      <th></th>\n",
       "      <th></th>\n",
       "      <th></th>\n",
       "      <th></th>\n",
       "      <th></th>\n",
       "      <th></th>\n",
       "      <th></th>\n",
       "      <th></th>\n",
       "      <th></th>\n",
       "      <th></th>\n",
       "      <th></th>\n",
       "      <th></th>\n",
       "      <th></th>\n",
       "      <th></th>\n",
       "      <th></th>\n",
       "    </tr>\n",
       "  </thead>\n",
       "  <tbody>\n",
       "    <tr>\n",
       "      <th>2368</th>\n",
       "      <td>ALAMANCE</td>\n",
       "      <td>01</td>\n",
       "      <td>1071</td>\n",
       "      <td>295</td>\n",
       "      <td>2</td>\n",
       "      <td>Yes</td>\n",
       "      <td>1109</td>\n",
       "      <td>313.0</td>\n",
       "      <td>24</td>\n",
       "      <td>No</td>\n",
       "      <td>...</td>\n",
       "      <td>85</td>\n",
       "      <td>108</td>\n",
       "      <td>42</td>\n",
       "      <td>44870</td>\n",
       "      <td>3679</td>\n",
       "      <td>727</td>\n",
       "      <td>1518</td>\n",
       "      <td>1278</td>\n",
       "      <td>156</td>\n",
       "      <td>129</td>\n",
       "    </tr>\n",
       "    <tr>\n",
       "      <th>2366</th>\n",
       "      <td>ALAMANCE</td>\n",
       "      <td>02</td>\n",
       "      <td>1246</td>\n",
       "      <td>313</td>\n",
       "      <td>6</td>\n",
       "      <td>Yes</td>\n",
       "      <td>1285</td>\n",
       "      <td>314.0</td>\n",
       "      <td>24</td>\n",
       "      <td>No</td>\n",
       "      <td>...</td>\n",
       "      <td>203</td>\n",
       "      <td>102</td>\n",
       "      <td>41</td>\n",
       "      <td>49485</td>\n",
       "      <td>3525</td>\n",
       "      <td>601</td>\n",
       "      <td>1318</td>\n",
       "      <td>1361</td>\n",
       "      <td>245</td>\n",
       "      <td>77</td>\n",
       "    </tr>\n",
       "    <tr>\n",
       "      <th>2361</th>\n",
       "      <td>ALAMANCE</td>\n",
       "      <td>035</td>\n",
       "      <td>920</td>\n",
       "      <td>434</td>\n",
       "      <td>6</td>\n",
       "      <td>Yes</td>\n",
       "      <td>955</td>\n",
       "      <td>431.0</td>\n",
       "      <td>24</td>\n",
       "      <td>No</td>\n",
       "      <td>...</td>\n",
       "      <td>624</td>\n",
       "      <td>204</td>\n",
       "      <td>27</td>\n",
       "      <td>41560</td>\n",
       "      <td>3624</td>\n",
       "      <td>684</td>\n",
       "      <td>1173</td>\n",
       "      <td>1591</td>\n",
       "      <td>176</td>\n",
       "      <td>27</td>\n",
       "    </tr>\n",
       "    <tr>\n",
       "      <th>2374</th>\n",
       "      <td>ALAMANCE</td>\n",
       "      <td>03C</td>\n",
       "      <td>943</td>\n",
       "      <td>455</td>\n",
       "      <td>6</td>\n",
       "      <td>Yes</td>\n",
       "      <td>979</td>\n",
       "      <td>447.0</td>\n",
       "      <td>24</td>\n",
       "      <td>No</td>\n",
       "      <td>...</td>\n",
       "      <td>127</td>\n",
       "      <td>44</td>\n",
       "      <td>46</td>\n",
       "      <td>67658</td>\n",
       "      <td>2237</td>\n",
       "      <td>133</td>\n",
       "      <td>557</td>\n",
       "      <td>1167</td>\n",
       "      <td>381</td>\n",
       "      <td>5</td>\n",
       "    </tr>\n",
       "    <tr>\n",
       "      <th>2723</th>\n",
       "      <td>ALAMANCE</td>\n",
       "      <td>03N</td>\n",
       "      <td>862</td>\n",
       "      <td>586</td>\n",
       "      <td>6</td>\n",
       "      <td>Yes</td>\n",
       "      <td>881</td>\n",
       "      <td>582.0</td>\n",
       "      <td>24</td>\n",
       "      <td>No</td>\n",
       "      <td>...</td>\n",
       "      <td>85</td>\n",
       "      <td>20</td>\n",
       "      <td>37</td>\n",
       "      <td>67101</td>\n",
       "      <td>2792</td>\n",
       "      <td>92</td>\n",
       "      <td>691</td>\n",
       "      <td>1508</td>\n",
       "      <td>501</td>\n",
       "      <td>5</td>\n",
       "    </tr>\n",
       "  </tbody>\n",
       "</table>\n",
       "<p>5 rows × 30 columns</p>\n",
       "</div>"
      ],
      "text/plain": [
       "         county_name precinct_id  sen_red  sen_blue  con_districts  \\\n",
       "shape_id                                                             \n",
       "2368        ALAMANCE          01     1071       295              2   \n",
       "2366        ALAMANCE          02     1246       313              6   \n",
       "2361        ALAMANCE         035      920       434              6   \n",
       "2374        ALAMANCE         03C      943       455              6   \n",
       "2723        ALAMANCE         03N      862       586              6   \n",
       "\n",
       "         con_contested  con_red_votes  con_blue_votes  sldu_districts  \\\n",
       "shape_id                                                                \n",
       "2368               Yes           1109           313.0              24   \n",
       "2366               Yes           1285           314.0              24   \n",
       "2361               Yes            955           431.0              24   \n",
       "2374               Yes            979           447.0              24   \n",
       "2723               Yes            881           582.0              24   \n",
       "\n",
       "         sldu_contested    ...     hispanic_pop  other_pop  median_age  \\\n",
       "shape_id                   ...                                           \n",
       "2368                 No    ...               85        108          42   \n",
       "2366                 No    ...              203        102          41   \n",
       "2361                 No    ...              624        204          27   \n",
       "2374                 No    ...              127         44          46   \n",
       "2723                 No    ...               85         20          37   \n",
       "\n",
       "         median_income  education_pop  school_pop  diploma_pop  college_pop  \\\n",
       "shape_id                                                                      \n",
       "2368             44870           3679         727         1518         1278   \n",
       "2366             49485           3525         601         1318         1361   \n",
       "2361             41560           3624         684         1173         1591   \n",
       "2374             67658           2237         133          557         1167   \n",
       "2723             67101           2792          92          691         1508   \n",
       "\n",
       "          graduate_pop  area_km2  \n",
       "shape_id                          \n",
       "2368               156       129  \n",
       "2366               245        77  \n",
       "2361               176        27  \n",
       "2374               381         5  \n",
       "2723               501         5  \n",
       "\n",
       "[5 rows x 30 columns]"
      ]
     },
     "execution_count": 2,
     "metadata": {},
     "output_type": "execute_result"
    }
   ],
   "source": [
    "df = pd.read_csv('nc_complete-2014.csv', index_col=0)\n",
    "df.head()"
   ]
  },
  {
   "cell_type": "markdown",
   "metadata": {
    "deletable": true,
    "editable": true
   },
   "source": [
    "### Derived Values\n",
    "\n",
    "Combine contested votes into single percentages, calculate population density, and use population rates instead of raw values."
   ]
  },
  {
   "cell_type": "code",
   "execution_count": 3,
   "metadata": {
    "collapsed": false,
    "deletable": true,
    "editable": true
   },
   "outputs": [],
   "source": [
    "df = df.assign(density = df.population / df.area_km2.clip(lower=1))\n",
    "\n",
    "df = df.assign(sen_pctblue = df.sen_blue / (df.sen_blue + df.sen_red))\n",
    "df = df.assign(sen_turnout = (df.sen_blue + df.sen_red) / df.population)\n",
    "df = df.assign(con_pctblue = df.con_blue_votes / (df.con_blue_votes + df.con_red_votes))\n",
    "df = df.assign(con_turnout = (df.con_blue_votes + df.con_red_votes) / df.population)\n",
    "df = df.assign(sldu_pctblue = df.sldu_blue_votes / (df.sldu_blue_votes + df.sldu_red_votes))\n",
    "df = df.assign(sldu_turnout = (df.sldu_blue_votes + df.sldu_red_votes) / df.population)\n",
    "df = df.assign(sldl_pctblue = df.sldl_blue_votes / (df.sldl_blue_votes + df.sldl_red_votes))\n",
    "df = df.assign(sldl_turnout = (df.sldl_blue_votes + df.sldl_red_votes) / df.population)\n",
    "\n",
    "df = df.assign(pct_white = df.white_pop / df.population)\n",
    "df = df.assign(pct_black = df.black_pop / df.population)\n",
    "df = df.assign(pct_asian = df.asian_pop / df.population)\n",
    "df = df.assign(pct_hispanic = df.hispanic_pop / df.population)\n",
    "df = df.assign(pct_other = df.other_pop / df.population)\n",
    "\n",
    "df = df.assign(pct_school = df.school_pop / df.education_pop)\n",
    "df = df.assign(pct_diploma = df.diploma_pop / df.education_pop)\n",
    "df = df.assign(pct_college = df.college_pop / df.education_pop)\n",
    "df = df.assign(pct_graduate = df.graduate_pop / df.education_pop)\n",
    "\n",
    "df = df.assign(pct_income = df.median_income / df.median_income.max())\n",
    "df = df.assign(pct_age = df.median_age / df.median_age.max())"
   ]
  },
  {
   "cell_type": "markdown",
   "metadata": {
    "deletable": true,
    "editable": true
   },
   "source": [
    "# Learn"
   ]
  },
  {
   "cell_type": "code",
   "execution_count": 4,
   "metadata": {
    "collapsed": true,
    "deletable": true,
    "editable": true
   },
   "outputs": [],
   "source": [
    "from sklearn import datasets, linear_model\n",
    "import numpy as np"
   ]
  },
  {
   "cell_type": "code",
   "execution_count": 5,
   "metadata": {
    "collapsed": false,
    "deletable": true,
    "editable": true
   },
   "outputs": [],
   "source": [
    "def calc_regr(df, query1, indep_fields, field, test_fields, query2, filename):\n",
    "    ''' \n",
    "    '''\n",
    "    full_all = df.query(query1).filter(items=indep_fields + (field,)).dropna()\n",
    "    full_input = full_all.filter(items=indep_fields)\n",
    "    full_output = full_all.filter(items=(field,))\n",
    "\n",
    "    assert full_input.shape == full_input.dropna().shape\n",
    "    assert full_output.shape == full_output.dropna().shape\n",
    "    \n",
    "    limited_input = full_all.filter(items=test_fields)\n",
    "    \n",
    "    training_size = len(full_input) * 4 // 5\n",
    "    print('Training set length:', training_size)\n",
    "    limited_train, limited_test = limited_input[:training_size], limited_input[training_size:]\n",
    "    output_train, output_test = full_output[:training_size], full_output[training_size:]\n",
    "    \n",
    "    regr = linear_model.LinearRegression()\n",
    "    regr.fit(limited_train, output_train)\n",
    "\n",
    "    print('Linear regression score: {:.0f}%'.format(100 * regr.score(limited_test, output_test)))\n",
    "    \n",
    "    coefficients = sorted([(abs(c), test_fields[i]) for (i, c) in enumerate(regr.coef_[0,:])], reverse=True)\n",
    "    print('Coefficients:', ', '.join(['{1} ({0:.02f})'.format(c, f) for (c, f) in coefficients if c > .01]))\n",
    "    \n",
    "    real_input = df.query(query2).filter(items=test_fields).dropna()\n",
    "    real_output = real_input.assign(**{field: regr.predict(real_input)}).filter(items=(field, ))\n",
    "    real_output.to_csv(filename)\n",
    "    print('Wrote', real_output.shape, filename, 'from', real_input.shape, 'input')"
   ]
  },
  {
   "cell_type": "markdown",
   "metadata": {},
   "source": [
    "## U.S. House Votes & Turnout"
   ]
  },
  {
   "cell_type": "code",
   "execution_count": 6,
   "metadata": {
    "collapsed": false
   },
   "outputs": [
    {
     "name": "stdout",
     "output_type": "stream",
     "text": [
      "Training set length: 2051\n",
      "Linear regression score: 96%\n",
      "Coefficients: sen_pctblue (0.99), pct_diploma (0.04), pct_black (0.04), pct_age (0.02), pct_income (0.01)\n",
      "Wrote (161, 1) con1_real_output.csv from (161, 5) input\n",
      "Training set length: 2051\n",
      "Linear regression score: 98%\n",
      "Coefficients: sen_turnout (1.05), pct_black (0.12), pct_age (0.08), pct_income (0.02), pct_diploma (0.02)\n",
      "Wrote (161, 1) con2_real_output.csv from (161, 5) input\n"
     ]
    },
    {
     "name": "stderr",
     "output_type": "stream",
     "text": [
      "/Users/migurski/Sites/Election-Results/.venv/lib/python3.6/site-packages/scipy/linalg/basic.py:1018: RuntimeWarning: internal gelsd driver lwork query error, required iwork dimension not returned. This is likely the result of LAPACK bug 0038, fixed in LAPACK 3.2.2 (released July 21, 2010). Falling back to 'gelss' driver.\n",
      "  warnings.warn(mesg, RuntimeWarning)\n"
     ]
    }
   ],
   "source": [
    "core_fields = ('pct_black', 'pct_income', 'pct_age', 'pct_diploma')\n",
    "con1_test_fields = core_fields + ('sen_pctblue', )\n",
    "\n",
    "calc_regr(\n",
    "    df,\n",
    "    'con_contested == \"Yes\"',\n",
    "    core_fields + ('sen_pctblue', 'sen_turnout'),\n",
    "    'con_pctblue',\n",
    "    con1_test_fields,\n",
    "    'con_contested != \"Yes\"',\n",
    "    'con1_real_output.csv')\n",
    "\n",
    "con2_test_fields = core_fields + ('sen_turnout', )\n",
    "\n",
    "calc_regr(\n",
    "    df,\n",
    "    'con_contested == \"Yes\"',\n",
    "    core_fields + ('sen_pctblue', 'sen_turnout'),\n",
    "    'con_turnout',\n",
    "    con2_test_fields,\n",
    "    'con_contested != \"Yes\"',\n",
    "    'con2_real_output.csv')"
   ]
  },
  {
   "cell_type": "markdown",
   "metadata": {
    "deletable": true,
    "editable": true
   },
   "source": [
    "## SLDU Blue Votes\n",
    "\n",
    "Pick out all complete list of independent variables plus the SLDU dependent variables: `sldu_pctblue` (SLDU Democratic vote percentage) and `sldu_turnout` (number of voters out of total population). After some trial-and-error with the full list of fields, I saw the best fit results with `pct_black` (Race), `pct_income` (Income), `pct_age` (Age), and `pct_diploma` (Education)."
   ]
  },
  {
   "cell_type": "code",
   "execution_count": 7,
   "metadata": {
    "collapsed": false,
    "deletable": true,
    "editable": true
   },
   "outputs": [
    {
     "name": "stdout",
     "output_type": "stream",
     "text": [
      "Training set length: 1179\n",
      "Linear regression score: 95%\n",
      "Coefficients: sen_pctblue (1.02), pct_income (0.11), con_pctblue (0.07), pct_diploma (0.06), pct_black (0.01)\n",
      "Wrote (1090, 1) sldu1A_real_output.csv from (1090, 6) input\n",
      "Training set length: 1209\n",
      "Linear regression score: 94%\n",
      "Coefficients: sen_pctblue (0.96), pct_income (0.14), pct_diploma (0.07), pct_black (0.02)\n",
      "Wrote (1213, 1) sldu1B_real_output.csv from (1213, 5) input\n"
     ]
    }
   ],
   "source": [
    "core_fields = ('pct_black', 'pct_income', 'pct_age', 'pct_diploma')\n",
    "sldu1A_test_fields = core_fields + ('sen_pctblue', 'con_pctblue')\n",
    "\n",
    "calc_regr(\n",
    "    df,\n",
    "    'sldu_contested == \"Yes\" and con_contested == \"Yes\"',\n",
    "    core_fields + ('sen_pctblue', 'con_pctblue', 'sen_turnout', 'con_turnout'),\n",
    "    'sldu_pctblue',\n",
    "    sldu1A_test_fields,\n",
    "    'sldu_contested != \"Yes\" and con_contested == \"Yes\"',\n",
    "    'sldu1A_real_output.csv')\n",
    "\n",
    "sldu1B_test_fields = core_fields + ('sen_pctblue', )\n",
    "\n",
    "calc_regr(\n",
    "    df,\n",
    "    'sldu_contested == \"Yes\"',\n",
    "    core_fields + ('sen_pctblue', 'sen_turnout'),\n",
    "    'sldu_pctblue',\n",
    "    sldu1B_test_fields,\n",
    "    'sldu_contested != \"Yes\"',\n",
    "    'sldu1B_real_output.csv')"
   ]
  },
  {
   "cell_type": "markdown",
   "metadata": {
    "deletable": true,
    "editable": true
   },
   "source": [
    "## SLDU Voter Turnout"
   ]
  },
  {
   "cell_type": "code",
   "execution_count": 8,
   "metadata": {
    "collapsed": false
   },
   "outputs": [
    {
     "name": "stdout",
     "output_type": "stream",
     "text": [
      "Training set length: 1179\n",
      "Linear regression score: 100%\n",
      "Coefficients: sen_turnout (1.02), pct_income (0.04), pct_black (0.02), pct_diploma (0.02), con_turnout (0.01)\n",
      "Wrote (1090, 1) sldu2A_real_output.csv from (1090, 6) input\n",
      "Training set length: 1209\n",
      "Linear regression score: 100%\n",
      "Coefficients: sen_turnout (1.03), pct_income (0.04), pct_black (0.02), pct_diploma (0.02)\n",
      "Wrote (1213, 1) sldu2B_real_output.csv from (1213, 5) input\n"
     ]
    }
   ],
   "source": [
    "core_fields = ('pct_black', 'pct_income', 'pct_age', 'pct_diploma')\n",
    "sldu2A_test_fields = core_fields + ('sen_turnout', 'con_turnout')\n",
    "\n",
    "calc_regr(\n",
    "    df,\n",
    "    'sldu_contested == \"Yes\" and con_contested == \"Yes\"',\n",
    "    core_fields + ('sen_pctblue', 'con_pctblue', 'sen_turnout', 'con_turnout'),\n",
    "    'sldu_turnout',\n",
    "    sldu2A_test_fields,\n",
    "    'sldu_contested != \"Yes\" and con_contested == \"Yes\"',\n",
    "    'sldu2A_real_output.csv')\n",
    "\n",
    "sldu2B_test_fields = core_fields + ('sen_turnout', )\n",
    "\n",
    "calc_regr(\n",
    "    df,\n",
    "    'sldu_contested == \"Yes\"',\n",
    "    core_fields + ('sen_pctblue', 'sen_turnout'),\n",
    "    'sldu_turnout',\n",
    "    sldu2B_test_fields,\n",
    "    'sldu_contested != \"Yes\"',\n",
    "    'sldu2B_real_output.csv')"
   ]
  },
  {
   "cell_type": "markdown",
   "metadata": {
    "deletable": true,
    "editable": true
   },
   "source": [
    "## SLDL Blue Votes\n",
    "\n",
    "Pick out all complete list of independent variables plus the SLDL dependent variables: `sldl_pctblue` (SLDL Democratic vote percentage) and `sldl_turnout` (number of voters out of total population)."
   ]
  },
  {
   "cell_type": "code",
   "execution_count": 9,
   "metadata": {
    "collapsed": false,
    "deletable": true,
    "editable": true
   },
   "outputs": [
    {
     "name": "stdout",
     "output_type": "stream",
     "text": [
      "Training set length: 992\n",
      "Linear regression score: 92%\n",
      "Coefficients: sen_pctblue (1.05), con_pctblue (0.11), pct_income (0.10), pct_black (0.05), pct_diploma (0.04), pct_age (0.01)\n",
      "Wrote (1324, 1) sldl1A_real_output.csv from (1324, 6) input\n",
      "Training set length: 1030\n",
      "Linear regression score: 91%\n",
      "Coefficients: sen_pctblue (0.95), pct_income (0.09), pct_black (0.05), pct_diploma (0.04), pct_age (0.02)\n",
      "Wrote (1437, 1) sldl1B_real_output.csv from (1437, 5) input\n"
     ]
    }
   ],
   "source": [
    "core_fields = ('pct_black', 'pct_income', 'pct_age', 'pct_diploma')\n",
    "sldl1A_test_fields = core_fields + ('sen_pctblue', 'con_pctblue')\n",
    "\n",
    "calc_regr(\n",
    "    df,\n",
    "    'sldl_contested == \"Yes\" and con_contested == \"Yes\"',\n",
    "    core_fields + ('sen_pctblue', 'con_pctblue', 'sen_turnout', 'con_turnout'),\n",
    "    'sldl_pctblue',\n",
    "    sldl1A_test_fields,\n",
    "    'sldl_contested != \"Yes\" and con_contested == \"Yes\"',\n",
    "    'sldl1A_real_output.csv')\n",
    "\n",
    "sldl1B_test_fields = core_fields + ('sen_pctblue', )\n",
    "\n",
    "calc_regr(\n",
    "    df,\n",
    "    'sldl_contested == \"Yes\"',\n",
    "    core_fields + ('sen_pctblue', 'sen_turnout'),\n",
    "    'sldl_pctblue',\n",
    "    sldl1B_test_fields,\n",
    "    'sldl_contested != \"Yes\"',\n",
    "    'sldl1B_real_output.csv')"
   ]
  },
  {
   "cell_type": "markdown",
   "metadata": {
    "deletable": true,
    "editable": true
   },
   "source": [
    "## SLDL Voter Turnout"
   ]
  },
  {
   "cell_type": "code",
   "execution_count": 10,
   "metadata": {
    "collapsed": false
   },
   "outputs": [
    {
     "name": "stdout",
     "output_type": "stream",
     "text": [
      "Training set length: 992\n",
      "Linear regression score: 100%\n",
      "Coefficients: sen_turnout (0.94), con_turnout (0.07), pct_diploma (0.05), pct_income (0.03), pct_black (0.03), pct_age (0.02)\n",
      "Wrote (1324, 1) sldl2A_real_output.csv from (1324, 6) input\n",
      "Training set length: 1030\n",
      "Linear regression score: 100%\n",
      "Coefficients: sen_turnout (1.01), pct_diploma (0.05), pct_black (0.03), pct_income (0.02), pct_age (0.01)\n",
      "Wrote (1437, 1) sldl2B_real_output.csv from (1437, 5) input\n"
     ]
    }
   ],
   "source": [
    "core_fields = ('pct_black', 'pct_income', 'pct_age', 'pct_diploma')\n",
    "sldl2A_test_fields = core_fields + ('sen_turnout', 'con_turnout')\n",
    "\n",
    "calc_regr(\n",
    "    df,\n",
    "    'sldl_contested == \"Yes\" and con_contested == \"Yes\"',\n",
    "    core_fields + ('sen_pctblue', 'con_pctblue', 'sen_turnout', 'con_turnout'),\n",
    "    'sldl_turnout',\n",
    "    sldl2A_test_fields,\n",
    "    'sldl_contested != \"Yes\" and con_contested == \"Yes\"',\n",
    "    'sldl2A_real_output.csv')\n",
    "\n",
    "sldl2B_test_fields = core_fields + ('sen_turnout', )\n",
    "\n",
    "calc_regr(\n",
    "    df,\n",
    "    'sldl_contested == \"Yes\"',\n",
    "    core_fields + ('sen_pctblue', 'sen_turnout'),\n",
    "    'sldl_turnout',\n",
    "    sldl2B_test_fields,\n",
    "    'sldl_contested != \"Yes\"',\n",
    "    'sldl2B_real_output.csv')"
   ]
  },
  {
   "cell_type": "markdown",
   "metadata": {},
   "source": [
    "# Merge\n",
    "\n",
    "Use `csvjoin` to read each of the CSV files created above into a single output file by `shape_id`, impute new SLDU and SLDL votes if necessary, and output a new `nc_imputed-2014.csv` file."
   ]
  },
  {
   "cell_type": "code",
   "execution_count": 11,
   "metadata": {
    "collapsed": false
   },
   "outputs": [
    {
     "data": {
      "text/plain": [
       "'OK'"
      ]
     },
     "execution_count": 11,
     "metadata": {},
     "output_type": "execute_result"
    }
   ],
   "source": [
    "import subprocess, io, csv\n",
    "bytes = subprocess.check_output((\n",
    "    'csvjoin', '--left', '-c', 'shape_id', 'nc_complete-2014.csv',\n",
    "    'con1_real_output.csv', 'con2_real_output.csv',\n",
    "    'sldu1A_real_output.csv', 'sldu1B_real_output.csv', 'sldu2A_real_output.csv', 'sldu2B_real_output.csv',\n",
    "    'sldl1A_real_output.csv', 'sldl1B_real_output.csv', 'sldl2A_real_output.csv', 'sldl2B_real_output.csv'\n",
    "))\n",
    "\n",
    "with open('nc_imputed-2014.csv', 'w') as file:\n",
    "    input = csv.DictReader(io.StringIO(bytes.decode('utf8')))\n",
    "    output = csv.DictWriter(file, input.fieldnames[:-10] + ['con_imputed', 'sldu_imputed', 'sldl_imputed'])\n",
    "    output.writeheader()\n",
    "    \n",
    "    for row in input:\n",
    "        population = int(row['population'])\n",
    "\n",
    "        if row['con_contested'] == 'Yes':\n",
    "            row['con_imputed'] = 'No'\n",
    "        else:\n",
    "            con_pctblue = float(row['con_pctblue'])\n",
    "            con_turnout = float(row['con_turnout'])\n",
    "            row['con_blue_votes'] = int(con_pctblue * con_turnout * population)\n",
    "            row['con_red_votes'] = int((1 - con_pctblue) * con_turnout * population)\n",
    "            row['con_imputed'] = 'Yes'\n",
    "\n",
    "        if row['sldu_contested'] == 'Yes':\n",
    "            row['sldu_imputed'] = 'No'\n",
    "        else:\n",
    "            sldu_pctblue = float(row['sldu_pctblue'] or row['sldu_pctblue2'])\n",
    "            sldu_turnout = float(row['sldu_turnout'] or row['sldu_turnout2'])\n",
    "            row['sldu_blue_votes'] = int(sldu_pctblue * sldu_turnout * population)\n",
    "            row['sldu_red_votes'] = int((1 - sldu_pctblue) * sldu_turnout * population)\n",
    "            row['sldu_imputed'] = 'Yes'\n",
    "\n",
    "        if row['sldl_contested'] == 'Yes':\n",
    "            row['sldl_imputed'] = 'No'\n",
    "        else:\n",
    "            sldl_pctblue = float(row['sldl_pctblue'] or row['sldl_pctblue2'])\n",
    "            sldl_turnout = float(row['sldl_turnout'] or row['sldl_turnout2'])\n",
    "            row['sldl_blue_votes'] = int(sldl_pctblue * sldl_turnout * population)\n",
    "            row['sldl_red_votes'] = int((1 - sldl_pctblue) * sldl_turnout * population)\n",
    "            row['sldl_imputed'] = 'Yes'\n",
    "        \n",
    "        output.writerow({k: row[k] for k in output.fieldnames})\n",
    "\n",
    "'OK'"
   ]
  }
 ],
 "metadata": {
  "kernelspec": {
   "display_name": "Python 3",
   "language": "python",
   "name": "python3"
  },
  "language_info": {
   "codemirror_mode": {
    "name": "ipython",
    "version": 3
   },
   "file_extension": ".py",
   "mimetype": "text/x-python",
   "name": "python",
   "nbconvert_exporter": "python",
   "pygments_lexer": "ipython3",
   "version": "3.6.0"
  }
 },
 "nbformat": 4,
 "nbformat_minor": 2
}
