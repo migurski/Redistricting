{
 "cells": [
  {
   "cell_type": "code",
   "execution_count": 1,
   "metadata": {
    "collapsed": true,
    "deletable": true,
    "editable": true
   },
   "outputs": [],
   "source": [
    "import pandas as pd\n",
    "import matplotlib.pyplot as plt\n",
    "from sklearn.decomposition import PCA\n",
    "from sklearn import cluster, preprocessing\n",
    "%matplotlib inline"
   ]
  },
  {
   "cell_type": "markdown",
   "metadata": {
    "deletable": true,
    "editable": true
   },
   "source": [
    "# Data\n",
    "\n",
    "Load data from `nc_complete-2014.csv`."
   ]
  },
  {
   "cell_type": "code",
   "execution_count": 2,
   "metadata": {
    "collapsed": false,
    "deletable": true,
    "editable": true
   },
   "outputs": [
    {
     "data": {
      "text/html": [
       "<div>\n",
       "<table border=\"1\" class=\"dataframe\">\n",
       "  <thead>\n",
       "    <tr style=\"text-align: right;\">\n",
       "      <th></th>\n",
       "      <th>county_name</th>\n",
       "      <th>precinct_id</th>\n",
       "      <th>sen_red</th>\n",
       "      <th>sen_blue</th>\n",
       "      <th>con_districts</th>\n",
       "      <th>con_contested</th>\n",
       "      <th>con_red_votes</th>\n",
       "      <th>con_blue_votes</th>\n",
       "      <th>sldu_districts</th>\n",
       "      <th>sldu_contested</th>\n",
       "      <th>...</th>\n",
       "      <th>hispanic_pop</th>\n",
       "      <th>other_pop</th>\n",
       "      <th>median_age</th>\n",
       "      <th>median_income</th>\n",
       "      <th>education_pop</th>\n",
       "      <th>school_pop</th>\n",
       "      <th>diploma_pop</th>\n",
       "      <th>college_pop</th>\n",
       "      <th>graduate_pop</th>\n",
       "      <th>area_km2</th>\n",
       "    </tr>\n",
       "    <tr>\n",
       "      <th>shape_id</th>\n",
       "      <th></th>\n",
       "      <th></th>\n",
       "      <th></th>\n",
       "      <th></th>\n",
       "      <th></th>\n",
       "      <th></th>\n",
       "      <th></th>\n",
       "      <th></th>\n",
       "      <th></th>\n",
       "      <th></th>\n",
       "      <th></th>\n",
       "      <th></th>\n",
       "      <th></th>\n",
       "      <th></th>\n",
       "      <th></th>\n",
       "      <th></th>\n",
       "      <th></th>\n",
       "      <th></th>\n",
       "      <th></th>\n",
       "      <th></th>\n",
       "      <th></th>\n",
       "    </tr>\n",
       "  </thead>\n",
       "  <tbody>\n",
       "    <tr>\n",
       "      <th>2368</th>\n",
       "      <td>ALAMANCE</td>\n",
       "      <td>01</td>\n",
       "      <td>1071</td>\n",
       "      <td>295</td>\n",
       "      <td>2</td>\n",
       "      <td>Yes</td>\n",
       "      <td>1109</td>\n",
       "      <td>313.0</td>\n",
       "      <td>24</td>\n",
       "      <td>No</td>\n",
       "      <td>...</td>\n",
       "      <td>85</td>\n",
       "      <td>108</td>\n",
       "      <td>42</td>\n",
       "      <td>44870</td>\n",
       "      <td>3679</td>\n",
       "      <td>727</td>\n",
       "      <td>1518</td>\n",
       "      <td>1278</td>\n",
       "      <td>156</td>\n",
       "      <td>129</td>\n",
       "    </tr>\n",
       "    <tr>\n",
       "      <th>2366</th>\n",
       "      <td>ALAMANCE</td>\n",
       "      <td>02</td>\n",
       "      <td>1246</td>\n",
       "      <td>313</td>\n",
       "      <td>6</td>\n",
       "      <td>Yes</td>\n",
       "      <td>1285</td>\n",
       "      <td>314.0</td>\n",
       "      <td>24</td>\n",
       "      <td>No</td>\n",
       "      <td>...</td>\n",
       "      <td>203</td>\n",
       "      <td>102</td>\n",
       "      <td>41</td>\n",
       "      <td>49485</td>\n",
       "      <td>3525</td>\n",
       "      <td>601</td>\n",
       "      <td>1318</td>\n",
       "      <td>1361</td>\n",
       "      <td>245</td>\n",
       "      <td>77</td>\n",
       "    </tr>\n",
       "    <tr>\n",
       "      <th>2361</th>\n",
       "      <td>ALAMANCE</td>\n",
       "      <td>035</td>\n",
       "      <td>920</td>\n",
       "      <td>434</td>\n",
       "      <td>6</td>\n",
       "      <td>Yes</td>\n",
       "      <td>955</td>\n",
       "      <td>431.0</td>\n",
       "      <td>24</td>\n",
       "      <td>No</td>\n",
       "      <td>...</td>\n",
       "      <td>624</td>\n",
       "      <td>204</td>\n",
       "      <td>27</td>\n",
       "      <td>41560</td>\n",
       "      <td>3624</td>\n",
       "      <td>684</td>\n",
       "      <td>1173</td>\n",
       "      <td>1591</td>\n",
       "      <td>176</td>\n",
       "      <td>27</td>\n",
       "    </tr>\n",
       "    <tr>\n",
       "      <th>2374</th>\n",
       "      <td>ALAMANCE</td>\n",
       "      <td>03C</td>\n",
       "      <td>943</td>\n",
       "      <td>455</td>\n",
       "      <td>6</td>\n",
       "      <td>Yes</td>\n",
       "      <td>979</td>\n",
       "      <td>447.0</td>\n",
       "      <td>24</td>\n",
       "      <td>No</td>\n",
       "      <td>...</td>\n",
       "      <td>127</td>\n",
       "      <td>44</td>\n",
       "      <td>46</td>\n",
       "      <td>67658</td>\n",
       "      <td>2237</td>\n",
       "      <td>133</td>\n",
       "      <td>557</td>\n",
       "      <td>1167</td>\n",
       "      <td>381</td>\n",
       "      <td>5</td>\n",
       "    </tr>\n",
       "    <tr>\n",
       "      <th>2723</th>\n",
       "      <td>ALAMANCE</td>\n",
       "      <td>03N</td>\n",
       "      <td>862</td>\n",
       "      <td>586</td>\n",
       "      <td>6</td>\n",
       "      <td>Yes</td>\n",
       "      <td>881</td>\n",
       "      <td>582.0</td>\n",
       "      <td>24</td>\n",
       "      <td>No</td>\n",
       "      <td>...</td>\n",
       "      <td>85</td>\n",
       "      <td>20</td>\n",
       "      <td>37</td>\n",
       "      <td>67101</td>\n",
       "      <td>2792</td>\n",
       "      <td>92</td>\n",
       "      <td>691</td>\n",
       "      <td>1508</td>\n",
       "      <td>501</td>\n",
       "      <td>5</td>\n",
       "    </tr>\n",
       "  </tbody>\n",
       "</table>\n",
       "<p>5 rows × 30 columns</p>\n",
       "</div>"
      ],
      "text/plain": [
       "         county_name precinct_id  sen_red  sen_blue  con_districts  \\\n",
       "shape_id                                                             \n",
       "2368        ALAMANCE          01     1071       295              2   \n",
       "2366        ALAMANCE          02     1246       313              6   \n",
       "2361        ALAMANCE         035      920       434              6   \n",
       "2374        ALAMANCE         03C      943       455              6   \n",
       "2723        ALAMANCE         03N      862       586              6   \n",
       "\n",
       "         con_contested  con_red_votes  con_blue_votes  sldu_districts  \\\n",
       "shape_id                                                                \n",
       "2368               Yes           1109           313.0              24   \n",
       "2366               Yes           1285           314.0              24   \n",
       "2361               Yes            955           431.0              24   \n",
       "2374               Yes            979           447.0              24   \n",
       "2723               Yes            881           582.0              24   \n",
       "\n",
       "         sldu_contested    ...     hispanic_pop  other_pop  median_age  \\\n",
       "shape_id                   ...                                           \n",
       "2368                 No    ...               85        108          42   \n",
       "2366                 No    ...              203        102          41   \n",
       "2361                 No    ...              624        204          27   \n",
       "2374                 No    ...              127         44          46   \n",
       "2723                 No    ...               85         20          37   \n",
       "\n",
       "         median_income  education_pop  school_pop  diploma_pop  college_pop  \\\n",
       "shape_id                                                                      \n",
       "2368             44870           3679         727         1518         1278   \n",
       "2366             49485           3525         601         1318         1361   \n",
       "2361             41560           3624         684         1173         1591   \n",
       "2374             67658           2237         133          557         1167   \n",
       "2723             67101           2792          92          691         1508   \n",
       "\n",
       "          graduate_pop  area_km2  \n",
       "shape_id                          \n",
       "2368               156       129  \n",
       "2366               245        77  \n",
       "2361               176        27  \n",
       "2374               381         5  \n",
       "2723               501         5  \n",
       "\n",
       "[5 rows x 30 columns]"
      ]
     },
     "execution_count": 2,
     "metadata": {},
     "output_type": "execute_result"
    }
   ],
   "source": [
    "df = pd.read_csv('nc_complete-2014.csv', index_col=0)\n",
    "df.head()"
   ]
  },
  {
   "cell_type": "markdown",
   "metadata": {
    "deletable": true,
    "editable": true
   },
   "source": [
    "### Derived Values\n",
    "\n",
    "Combine contested votes into single percentages, calculate population density, and use population rates instead of raw values."
   ]
  },
  {
   "cell_type": "code",
   "execution_count": 3,
   "metadata": {
    "collapsed": false,
    "deletable": true,
    "editable": true
   },
   "outputs": [],
   "source": [
    "df = df.assign(density = df.population / df.area_km2.clip(lower=1))\n",
    "\n",
    "df = df.assign(sen_pctblue = df.sen_blue / (df.sen_blue + df.sen_red))\n",
    "df = df.assign(sen_turnout = (df.sen_blue + df.sen_red) / df.population)\n",
    "df = df.assign(con_pctblue = df.con_blue_votes / (df.con_blue_votes + df.con_red_votes))\n",
    "df = df.assign(con_turnout = (df.con_blue_votes + df.con_red_votes) / df.population)\n",
    "df = df.assign(sldu_pctblue = df.sldu_blue_votes / (df.sldu_blue_votes + df.sldu_red_votes))\n",
    "df = df.assign(sldu_turnout = (df.sldu_blue_votes + df.sldu_red_votes) / df.population)\n",
    "df = df.assign(sldl_pctblue = df.sldl_blue_votes / (df.sldl_blue_votes + df.sldl_red_votes))\n",
    "df = df.assign(sldl_turnout = (df.sldl_blue_votes + df.sldl_red_votes) / df.population)\n",
    "\n",
    "df = df.assign(pct_white = df.white_pop / df.population)\n",
    "df = df.assign(pct_black = df.black_pop / df.population)\n",
    "df = df.assign(pct_asian = df.asian_pop / df.population)\n",
    "df = df.assign(pct_hispanic = df.hispanic_pop / df.population)\n",
    "df = df.assign(pct_other = df.other_pop / df.population)\n",
    "\n",
    "df = df.assign(pct_school = df.school_pop / df.education_pop)\n",
    "df = df.assign(pct_diploma = df.diploma_pop / df.education_pop)\n",
    "df = df.assign(pct_college = df.college_pop / df.education_pop)\n",
    "df = df.assign(pct_graduate = df.graduate_pop / df.education_pop)\n",
    "\n",
    "df = df.assign(pct_income = df.median_income / df.median_income.max())\n",
    "df = df.assign(pct_age = df.median_age / df.median_age.max())"
   ]
  },
  {
   "cell_type": "markdown",
   "metadata": {
    "deletable": true,
    "editable": true
   },
   "source": [
    "# Learn"
   ]
  },
  {
   "cell_type": "code",
   "execution_count": 4,
   "metadata": {
    "collapsed": true,
    "deletable": true,
    "editable": true
   },
   "outputs": [],
   "source": [
    "from sklearn import datasets, linear_model\n",
    "import numpy as np"
   ]
  },
  {
   "cell_type": "markdown",
   "metadata": {},
   "source": [
    "## SLDU Blue Votes"
   ]
  },
  {
   "cell_type": "markdown",
   "metadata": {},
   "source": [
    "Pick out all complete list of independent variables plus the SLDU dependent variables: `sldu_pctblue` (SLDU Democratic vote percentage) and `sldu_turnout` (number of voters out of total population). After some trial-and-error with the full list of fields, I saw the best fit results with `pct_black` (Race), `pct_income` (Income), `pct_age` (Age), and `pct_diploma` (Education)."
   ]
  },
  {
   "cell_type": "code",
   "execution_count": 5,
   "metadata": {
    "collapsed": false,
    "deletable": true,
    "editable": true
   },
   "outputs": [],
   "source": [
    "indep_fields = (\n",
    "    'pct_black', 'pct_income', 'pct_age', 'pct_diploma',\n",
    "    'sen_pctblue', 'con_pctblue', 'sen_turnout', 'con_turnout')\n",
    "\n",
    "sldu1_full_all = df.query('sldu_contested == \"Yes\" and con_contested == \"Yes\"').filter(items=indep_fields + ('sldu_pctblue',)).dropna()\n",
    "sldu1_full_input = sldu1_full_all.filter(items=indep_fields)\n",
    "sldu1_full_output = sldu1_full_all.filter(items=('sldu_pctblue',))\n",
    "\n",
    "assert sldu1_full_input.shape == sldu1_full_input.dropna().shape\n",
    "assert sldu1_full_output.shape == sldu1_full_output.dropna().shape"
   ]
  },
  {
   "cell_type": "markdown",
   "metadata": {},
   "source": [
    "Add `sen_pctblue` and `con_pctblue` values for statewide races."
   ]
  },
  {
   "cell_type": "code",
   "execution_count": 6,
   "metadata": {
    "collapsed": false
   },
   "outputs": [
    {
     "name": "stdout",
     "output_type": "stream",
     "text": [
      "Training set length: 1179\n",
      "Linear regression score: 95%\n",
      "Coefficients: sen_pctblue (1.02), pct_income (0.11), con_pctblue (0.07), pct_diploma (0.06), pct_black (0.01)\n"
     ]
    },
    {
     "name": "stderr",
     "output_type": "stream",
     "text": [
      "/Users/migurski/Sites/Election-Results/.venv/lib/python3.6/site-packages/scipy/linalg/basic.py:1018: RuntimeWarning: internal gelsd driver lwork query error, required iwork dimension not returned. This is likely the result of LAPACK bug 0038, fixed in LAPACK 3.2.2 (released July 21, 2010). Falling back to 'gelss' driver.\n",
      "  warnings.warn(mesg, RuntimeWarning)\n"
     ]
    }
   ],
   "source": [
    "test1_fields = (\n",
    "    'pct_black', 'pct_income', 'pct_age',\n",
    "    'pct_diploma', 'sen_pctblue', 'con_pctblue')\n",
    "\n",
    "sldu1_limited_input = sldu1_full_all.filter(items=test1_fields)\n",
    "\n",
    "training_size = len(sldu1_full_input) * 4 // 5\n",
    "print('Training set length:', training_size)\n",
    "sldu1_limited_train, sldu1_limited_test = sldu1_limited_input[:training_size], sldu1_limited_input[training_size:]\n",
    "sldu1_output_train, sldu1_output_test = sldu1_full_output[:training_size], sldu1_full_output[training_size:]\n",
    "\n",
    "sldu1_regr = linear_model.LinearRegression()\n",
    "sldu1_regr.fit(sldu1_limited_train, sldu1_output_train)\n",
    "\n",
    "print('Linear regression score: {:.0f}%'.format(100 * sldu1_regr.score(sldu1_limited_test, sldu1_output_test)))\n",
    "\n",
    "coefficients = sorted([(abs(c), test1_fields[i]) for (i, c) in enumerate(sldu1_regr.coef_[0,:])], reverse=True)\n",
    "print('Coefficients:', ', '.join(['{1} ({0:.02f})'.format(c, f) for (c, f) in coefficients if c > .01]))"
   ]
  },
  {
   "cell_type": "code",
   "execution_count": 7,
   "metadata": {
    "collapsed": false
   },
   "outputs": [],
   "source": [
    "sldu1_real_input = df.query('sldu_contested != \"Yes\" and con_contested == \"Yes\"').filter(items=test1_fields).dropna()\n",
    "sldu1_real_output = sldu1_real_input.assign(sldu_pctblue=sldu1_regr.predict(sldu1_real_input))\n",
    "sldu1_real_output.to_csv('sldu1_real_output.csv')"
   ]
  },
  {
   "cell_type": "markdown",
   "metadata": {},
   "source": [
    "## SLDU Voter Turnout"
   ]
  },
  {
   "cell_type": "code",
   "execution_count": 8,
   "metadata": {
    "collapsed": false
   },
   "outputs": [],
   "source": [
    "sldu2_full_all = df.query('sldu_contested == \"Yes\" and con_contested == \"Yes\"').filter(items=indep_fields + ('sldu_turnout',)).dropna()\n",
    "sldu2_full_input = sldu2_full_all.filter(items=indep_fields)\n",
    "sldu2_full_output = sldu2_full_all.filter(items=('sldu_turnout',))\n",
    "\n",
    "assert sldu2_full_input.shape == sldu2_full_input.dropna().shape\n",
    "assert sldu2_full_output.shape == sldu2_full_output.dropna().shape"
   ]
  },
  {
   "cell_type": "markdown",
   "metadata": {},
   "source": [
    "Add `sen_turnout` and `con_turnout` values for statewide races."
   ]
  },
  {
   "cell_type": "code",
   "execution_count": 9,
   "metadata": {
    "collapsed": false
   },
   "outputs": [
    {
     "name": "stdout",
     "output_type": "stream",
     "text": [
      "Training set length: 1179\n",
      "Linear regression score: 100%\n",
      "Coefficients: sen_turnout (1.02), pct_income (0.04), pct_black (0.02), pct_diploma (0.02), con_turnout (0.01)\n"
     ]
    }
   ],
   "source": [
    "test2_fields = (\n",
    "    'pct_black', 'pct_income', 'pct_age',\n",
    "    'pct_diploma', 'sen_turnout', 'con_turnout')\n",
    "\n",
    "sldu2_limited_input = sldu2_full_all.filter(items=test2_fields)\n",
    "\n",
    "training_size = len(sldu2_full_input) * 4 // 5\n",
    "print('Training set length:', training_size)\n",
    "sldu2_limited_train, sldu2_limited_test = sldu2_limited_input[:training_size], sldu2_limited_input[training_size:]\n",
    "sldu2_output_train, sldu2_output_test = sldu2_full_output[:training_size], sldu2_full_output[training_size:]\n",
    "\n",
    "sldu2_regr = linear_model.LinearRegression()\n",
    "sldu2_regr.fit(sldu2_limited_train, sldu2_output_train)\n",
    "\n",
    "print('Linear regression score: {:.0f}%'.format(100 * sldu2_regr.score(sldu2_limited_test, sldu2_output_test)))\n",
    "\n",
    "coefficients = sorted([(abs(c), test2_fields[i]) for (i, c) in enumerate(sldu2_regr.coef_[0,:])], reverse=True)\n",
    "print('Coefficients:', ', '.join(['{1} ({0:.02f})'.format(c, f) for (c, f) in coefficients if c > .01]))"
   ]
  },
  {
   "cell_type": "code",
   "execution_count": 10,
   "metadata": {
    "collapsed": false
   },
   "outputs": [],
   "source": [
    "sldu2_real_input = df.query('sldu_contested != \"Yes\" and con_contested == \"Yes\"').filter(items=test2_fields).dropna()\n",
    "sldu2_real_output = sldu2_real_input.assign(sldu_turnout=sldu2_regr.predict(sldu2_real_input))\n",
    "sldu2_real_output.to_csv('sldu2_real_output.csv')"
   ]
  },
  {
   "cell_type": "markdown",
   "metadata": {},
   "source": [
    "## SLDL Blue Votes\n",
    "\n",
    "Pick out all complete list of independent variables plus the SLDL dependent variables: `sldl_pctblue` (SLDL Democratic vote percentage) and `sldl_turnout` (number of voters out of total population)."
   ]
  },
  {
   "cell_type": "code",
   "execution_count": 11,
   "metadata": {
    "collapsed": false
   },
   "outputs": [],
   "source": [
    "sldl1_full_all = df.query('sldl_contested == \"Yes\" and con_contested == \"Yes\"').filter(items=indep_fields + ('sldl_pctblue',)).dropna()\n",
    "sldl1_full_input = sldl1_full_all.filter(items=indep_fields)\n",
    "sldl1_full_output = sldl1_full_all.filter(items=('sldl_pctblue',))\n",
    "\n",
    "assert sldl1_full_input.shape == sldl1_full_input.dropna().shape\n",
    "assert sldl1_full_output.shape == sldl1_full_output.dropna().shape"
   ]
  },
  {
   "cell_type": "markdown",
   "metadata": {},
   "source": [
    "Add `sen_pctblue` and `con_pctblue` values for statewide races."
   ]
  },
  {
   "cell_type": "code",
   "execution_count": null,
   "metadata": {
    "collapsed": false
   },
   "outputs": [
    {
     "name": "stdout",
     "output_type": "stream",
     "text": [
      "Training set length: 992\n",
      "Linear regression score: 92%\n",
      "Coefficients: sen_pctblue (1.05), con_pctblue (0.11), pct_income (0.10), pct_black (0.05), pct_diploma (0.04), pct_age (0.01)\n"
     ]
    }
   ],
   "source": [
    "test1_fields = (\n",
    "    'pct_black', 'pct_income', 'pct_age',\n",
    "    'pct_diploma', 'sen_pctblue', 'con_pctblue')\n",
    "\n",
    "sldl1_limited_input = sldl1_full_all.filter(items=test1_fields)\n",
    "\n",
    "training_size = len(sldl1_full_input) * 4 // 5\n",
    "print('Training set length:', training_size)\n",
    "sldl1_limited_train, sldl1_limited_test = sldl1_limited_input[:training_size], sldl1_limited_input[training_size:]\n",
    "sldl1_output_train, sldl1_output_test = sldl1_full_output[:training_size], sldl1_full_output[training_size:]\n",
    "\n",
    "sldl1_regr = linear_model.LinearRegression()\n",
    "sldl1_regr.fit(sldl1_limited_train, sldl1_output_train)\n",
    "\n",
    "print('Linear regression score: {:.0f}%'.format(100 * sldl1_regr.score(sldl1_limited_test, sldl1_output_test)))\n",
    "\n",
    "coefficients = sorted([(abs(c), test1_fields[i]) for (i, c) in enumerate(sldl1_regr.coef_[0,:])], reverse=True)\n",
    "print('Coefficients:', ', '.join(['{1} ({0:.02f})'.format(c, f) for (c, f) in coefficients if c > .01]))"
   ]
  },
  {
   "cell_type": "code",
   "execution_count": null,
   "metadata": {
    "collapsed": true
   },
   "outputs": [],
   "source": [
    "sldl1_real_input = df.query('sldl_contested != \"Yes\" and con_contested == \"Yes\"').filter(items=test1_fields).dropna()\n",
    "sldl1_real_output = sldl1_real_input.assign(sldl_pctblue=sldl1_regr.predict(sldl1_real_input))\n",
    "sldl1_real_output.to_csv('sldl1_real_output.csv')"
   ]
  },
  {
   "cell_type": "markdown",
   "metadata": {},
   "source": [
    "## SLDL Voter Turnout"
   ]
  },
  {
   "cell_type": "code",
   "execution_count": null,
   "metadata": {
    "collapsed": true
   },
   "outputs": [],
   "source": [
    "sldl2_full_all = df.query('sldl_contested == \"Yes\" and con_contested == \"Yes\"').filter(items=indep_fields + ('sldl_turnout',)).dropna()\n",
    "sldl2_full_input = sldl2_full_all.filter(items=indep_fields)\n",
    "sldl2_full_output = sldl2_full_all.filter(items=('sldl_turnout',))\n",
    "\n",
    "assert sldl2_full_input.shape == sldl2_full_input.dropna().shape\n",
    "assert sldl2_full_output.shape == sldl2_full_output.dropna().shape"
   ]
  },
  {
   "cell_type": "markdown",
   "metadata": {},
   "source": [
    "Add `sen_turnout` and `con_turnout` values for statewide races."
   ]
  },
  {
   "cell_type": "code",
   "execution_count": null,
   "metadata": {
    "collapsed": false
   },
   "outputs": [],
   "source": [
    "test2_fields = (\n",
    "    'pct_black', 'pct_income', 'pct_age',\n",
    "    'pct_diploma', 'sen_turnout', 'con_turnout')\n",
    "\n",
    "sldl2_limited_input = sldl2_full_all.filter(items=test2_fields)\n",
    "\n",
    "training_size = len(sldl2_full_input) * 4 // 5\n",
    "print('Training set length:', training_size)\n",
    "sldl2_limited_train, sldl2_limited_test = sldl2_limited_input[:training_size], sldl2_limited_input[training_size:]\n",
    "sldl2_output_train, sldl2_output_test = sldl2_full_output[:training_size], sldl2_full_output[training_size:]\n",
    "\n",
    "sldl2_regr = linear_model.LinearRegression()\n",
    "sldl2_regr.fit(sldl2_limited_train, sldl2_output_train)\n",
    "\n",
    "print('Linear regression score: {:.0f}%'.format(100 * sldl2_regr.score(sldl2_limited_test, sldl2_output_test)))\n",
    "\n",
    "coefficients = sorted([(abs(c), test2_fields[i]) for (i, c) in enumerate(sldl2_regr.coef_[0,:])], reverse=True)\n",
    "print('Coefficients:', ', '.join(['{1} ({0:.02f})'.format(c, f) for (c, f) in coefficients if c > .01]))"
   ]
  },
  {
   "cell_type": "code",
   "execution_count": null,
   "metadata": {
    "collapsed": true
   },
   "outputs": [],
   "source": [
    "sldl2_real_input = df.query('sldl_contested != \"Yes\" and con_contested == \"Yes\"').filter(items=test2_fields).dropna()\n",
    "sldl2_real_output = sldl2_real_input.assign(sldl_turnout=sldl2_regr.predict(sldl2_real_input))\n",
    "sldl2_real_output.to_csv('sldl2_real_output.csv')"
   ]
  }
 ],
 "metadata": {
  "kernelspec": {
   "display_name": "Python 3",
   "language": "python",
   "name": "python3"
  },
  "language_info": {
   "codemirror_mode": {
    "name": "ipython",
    "version": 3
   },
   "file_extension": ".py",
   "mimetype": "text/x-python",
   "name": "python",
   "nbconvert_exporter": "python",
   "pygments_lexer": "ipython3",
   "version": "3.6.0"
  }
 },
 "nbformat": 4,
 "nbformat_minor": 2
}
